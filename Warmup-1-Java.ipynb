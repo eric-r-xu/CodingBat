{
 "cells": [
  {
   "cell_type": "code",
   "execution_count": 1,
   "metadata": {},
   "outputs": [],
   "source": [
    "%maven junit:junit:4.12\n",
    "import static org.junit.Assert.*;"
   ]
  },
  {
   "cell_type": "markdown",
   "metadata": {},
   "source": [
    "## sleepIn\n",
    "\n",
    "The parameter weekday is true if it is a weekday, and the parameter vacation is true if we are on vacation. We sleep in if it is not a weekday or we're on vacation. Return true if we sleep in.\n",
    "\n",
    "\n",
    "sleepIn(false, false) → true<br>\n",
    "sleepIn(true, false) → false<br>\n",
    "sleepIn(false, true) → true"
   ]
  },
  {
   "cell_type": "code",
   "execution_count": 2,
   "metadata": {},
   "outputs": [],
   "source": [
    "public boolean sleepIn(boolean weekday, boolean vacation) {\n",
    "  if (!weekday || vacation) {\n",
    "    return true;\n",
    "  }\n",
    "  return false;\n",
    "}\n",
    "\n",
    "assertTrue(sleepIn(false, false) == true);\n",
    "assertTrue(sleepIn(true, false) == false);\n",
    "assertTrue(sleepIn(false, true) == true);"
   ]
  },
  {
   "cell_type": "markdown",
   "metadata": {},
   "source": [
    "## monkeyTrouble\n",
    "\n",
    "We have two monkeys, a and b, and the parameters aSmile and bSmile indicate if each is smiling. We are in trouble if they are both smiling or if neither of them is smiling. Return true if we are in trouble.\n",
    "\n",
    "\n",
    "monkeyTrouble(true, true) → true<br>\n",
    "monkeyTrouble(false, false) → true<br>\n",
    "monkeyTrouble(true, false) → false"
   ]
  },
  {
   "cell_type": "code",
   "execution_count": 3,
   "metadata": {},
   "outputs": [],
   "source": [
    "public boolean monkeyTrouble(boolean aSmile, boolean bSmile) {\n",
    "  return (aSmile == bSmile);\n",
    "}\n",
    "\n",
    "assertTrue(monkeyTrouble(true, true) == true);\n",
    "assertTrue(monkeyTrouble(false, false) == true);\n",
    "assertTrue(monkeyTrouble(true, false) == false);"
   ]
  },
  {
   "cell_type": "markdown",
   "metadata": {},
   "source": [
    "## sumDouble\n",
    "Given two int values, return their sum. Unless the two values are the same, then return double their sum.\n",
    "\n",
    "\n",
    "sumDouble(1, 2) → 3<br>\n",
    "sumDouble(3, 2) → 5<br>\n",
    "sumDouble(2, 2) → 8"
   ]
  },
  {
   "cell_type": "code",
   "execution_count": 4,
   "metadata": {},
   "outputs": [],
   "source": [
    "public int sumDouble(int a, int b) {\n",
    "  if (a == b) {\n",
    "    return 2 * (a + b);\n",
    "  }\n",
    "  \n",
    "  return a + b;\n",
    "}\n",
    "\n",
    "assertTrue(sumDouble(1, 2) == 3);\n",
    "assertTrue(sumDouble(3, 2) == 5);\n",
    "assertTrue(sumDouble(2, 2) == 8);"
   ]
  },
  {
   "cell_type": "markdown",
   "metadata": {},
   "source": [
    "## diff21\n",
    "Given an int n, return the absolute difference between n and 21, except return double the absolute difference if n is over 21.\n",
    "\n",
    "\n",
    "diff21(19) → 2<br>\n",
    "diff21(10) → 11<br>\n",
    "diff21(21) → 0"
   ]
  },
  {
   "cell_type": "code",
   "execution_count": 5,
   "metadata": {},
   "outputs": [],
   "source": [
    "public int diff21(int n) {\n",
    "  int diff = (n-21);\n",
    "  if (diff < 0) {\n",
    "    diff = -1 * diff;\n",
    "  }\n",
    "  if (n > 21) {\n",
    "    return 2 * diff;\n",
    "  }\n",
    "  return diff;\n",
    "}\n",
    "\n",
    "assertTrue(diff21(19) == 2);\n",
    "assertTrue(diff21(10) == 11);\n",
    "assertTrue(diff21(21) == 0);"
   ]
  },
  {
   "cell_type": "markdown",
   "metadata": {},
   "source": [
    "## parrotTrouble\n",
    "We have a loud talking parrot. The \"hour\" parameter is the current hour time in the range 0..23. We are in trouble if the parrot is talking and the hour is before 7 or after 20. Return true if we are in trouble.\n",
    "\n",
    "\n",
    "parrotTrouble(true, 6) → true<br>\n",
    "parrotTrouble(true, 7) → false<br>\n",
    "parrotTrouble(false, 6) → false"
   ]
  },
  {
   "cell_type": "code",
   "execution_count": 6,
   "metadata": {},
   "outputs": [],
   "source": [
    "public boolean parrotTrouble(boolean talking, int hour) {\n",
    "    return (talking && (hour < 7 || hour > 20));\n",
    "}\n",
    "\n",
    "assertTrue(parrotTrouble(true, 6) == true);\n",
    "assertTrue(parrotTrouble(true, 7) == false);\n",
    "assertTrue(parrotTrouble(false, 6) == false);"
   ]
  },
  {
   "cell_type": "markdown",
   "metadata": {},
   "source": [
    "## makes10\n",
    "\n",
    "Given 2 ints, a and b, return true if one if them is 10 or if their sum is 10.\n",
    "\n",
    "\n",
    "makes10(9, 10) → true<br>\n",
    "makes10(9, 9) → false<br>\n",
    "makes10(1, 9) → true"
   ]
  },
  {
   "cell_type": "code",
   "execution_count": 7,
   "metadata": {},
   "outputs": [],
   "source": [
    "public boolean makes10(int a, int b) {\n",
    "  return (a == 10 || b == 10 || a + b == 10);\n",
    "}\n",
    "\n",
    "assertTrue(makes10(9, 10) == true);\n",
    "assertTrue(makes10(9, 9) == false);\n",
    "assertTrue(makes10(1, 9) == true);"
   ]
  },
  {
   "cell_type": "markdown",
   "metadata": {},
   "source": [
    "## nearHundred\n",
    "\n",
    "Given an int n, return true if it is within 10 of 100 or 200. Note: Math.abs(num) computes the absolute value of a number.\n",
    "\n",
    "\n",
    "nearHundred(93) → true<br>\n",
    "nearHundred(90) → true<br>\n",
    "nearHundred(89) → false"
   ]
  },
  {
   "cell_type": "code",
   "execution_count": 8,
   "metadata": {},
   "outputs": [],
   "source": [
    "public boolean nearHundred(int n) {\n",
    "  return (Math.abs(n-100) <= 10 || Math.abs(n-200) <= 10);\n",
    "}\n",
    "\n",
    "assertTrue(nearHundred(93) == true);\n",
    "assertTrue(nearHundred(90) == true);\n",
    "assertTrue(nearHundred(89) == false);"
   ]
  },
  {
   "cell_type": "markdown",
   "metadata": {},
   "source": [
    "## posNeg\n",
    "\n",
    "Given 2 int values, return true if one is negative and one is positive. Except if the parameter \"negative\" is true, then return true only if both are negative.\n",
    "\n",
    "\n",
    "posNeg(1, -1, false) → true<br>\n",
    "posNeg(-1, 1, false) → true<br>\n",
    "posNeg(-4, -5, true) → true"
   ]
  },
  {
   "cell_type": "code",
   "execution_count": 9,
   "metadata": {},
   "outputs": [],
   "source": [
    "public boolean posNeg(int a, int b, boolean negative) {\n",
    "  return ((a * b < 0) && (!negative)) || ((negative) && (a < 0) && (b < 0));\n",
    "}\n",
    "\n",
    "assertTrue(posNeg(1, -1, false) == true);\n",
    "assertTrue(posNeg(-1, 1, false) == true);\n",
    "assertTrue(posNeg(-4, -5, true) == true);"
   ]
  },
  {
   "cell_type": "markdown",
   "metadata": {},
   "source": [
    "## notString\n",
    "\n",
    "Given a string, return a new string where \"not \" has been added to the front. However, if the string already begins with \"not\", return the string unchanged. Note: use .equals() to compare 2 strings.\n",
    "\n",
    "\n",
    "notString(\"candy\") → \"not candy\"<br>\n",
    "notString(\"x\") → \"not x\"<br>\n",
    "notString(\"not bad\") → \"not bad\""
   ]
  },
  {
   "cell_type": "code",
   "execution_count": 10,
   "metadata": {},
   "outputs": [],
   "source": [
    "public String notString(String str) {\n",
    "  if (str.startsWith(\"not\")) {\n",
    "    return str;\n",
    "  }\n",
    "  \n",
    "  return \"not \" + str;\n",
    "}\n",
    "\n",
    "assertTrue(notString(\"candy\").equals(\"not candy\"));\n",
    "assertTrue(notString(\"x\").equals(\"not x\"));\n",
    "assertTrue(notString(\"not bad\").equals(\"not bad\"));"
   ]
  },
  {
   "cell_type": "markdown",
   "metadata": {},
   "source": [
    "## missingChar\n",
    "Given a non-empty string and an int n, return a new string where the char at index n has been removed. The value of n will be a valid index of a char in the original string (i.e. n will be in the range 0..str.length()-1 inclusive).\n",
    "\n",
    "\n",
    "missingChar(\"kitten\", 1) → \"ktten\"<br>\n",
    "missingChar(\"kitten\", 0) → \"itten\"<br>\n",
    "missingChar(\"kitten\", 4) → \"kittn\""
   ]
  },
  {
   "cell_type": "code",
   "execution_count": 11,
   "metadata": {},
   "outputs": [],
   "source": [
    "public String missingChar(String str, int n) {\n",
    "  String pre = str.substring(0, n);\n",
    "  String post = str.substring(n+1, str.length());\n",
    "  return pre + post;\n",
    "}\n",
    "\n",
    "assertTrue(missingChar(\"kitten\", 1).equals(\"ktten\"));\n",
    "assertTrue(missingChar(\"kitten\", 0).equals(\"itten\"));\n",
    "assertTrue(missingChar(\"kitten\", 4).equals(\"kittn\"));"
   ]
  },
  {
   "cell_type": "markdown",
   "metadata": {},
   "source": [
    "## frontBack\n",
    "\n",
    "Given a string, return a new string where the first and last chars have been exchanged.\n",
    "\n",
    "\n",
    "frontBack(\"code\") → \"eodc\"<br>\n",
    "frontBack(\"a\") → \"a\"<br>\n",
    "frontBack(\"ab\") → \"ba\""
   ]
  },
  {
   "cell_type": "code",
   "execution_count": 12,
   "metadata": {},
   "outputs": [],
   "source": [
    "public String frontBack(String str) {\n",
    "  if (str.length() <= 1) return str;\n",
    "  \n",
    "  char pre = str.charAt(str.length()-1);\n",
    "  String mid = str.substring(1, str.length()-1);\n",
    "  char post = str.charAt(0);\n",
    "  \n",
    "  return pre + mid + post;\n",
    "}\n",
    "\n",
    "assertTrue(frontBack(\"code\").equals(\"eodc\"));\n",
    "assertTrue(frontBack(\"a\").equals(\"a\"));\n",
    "assertTrue(frontBack(\"ab\").equals(\"ba\"));"
   ]
  },
  {
   "cell_type": "markdown",
   "metadata": {},
   "source": [
    "## front3\n",
    "\n",
    "Given a string, we'll say that the front is the first 3 chars of the string. If the string length is less than 3, the front is whatever is there. Return a new string which is 3 copies of the front.\n",
    "\n",
    "\n",
    "front3(\"Java\") → \"JavJavJav\"<br>\n",
    "front3(\"Chocolate\") → \"ChoChoCho\"<br>\n",
    "front3(\"abc\") → \"abcabcabc\""
   ]
  },
  {
   "cell_type": "code",
   "execution_count": 13,
   "metadata": {},
   "outputs": [],
   "source": [
    "public String front3(String str) {\n",
    "  String front;\n",
    "  \n",
    "  if (str.length() <= 2) {\n",
    "    front = str;\n",
    "  }\n",
    "  else {\n",
    "    front = str.substring(0, 3);\n",
    "  }\n",
    "\n",
    "  return front.concat(front).concat(front);\n",
    "}\n",
    "\n",
    "assertTrue(front3(\"Java\").equals(\"JavJavJav\"));\n",
    "assertTrue(front3(\"Chocolate\").equals(\"ChoChoCho\"));\n",
    "assertTrue(front3(\"abc\").equals(\"abcabcabc\"));"
   ]
  },
  {
   "cell_type": "markdown",
   "metadata": {},
   "source": [
    "## backAround\n",
    "\n",
    "Given a string, take the last char and return a new string with the last char added at the front and back, so \"cat\" yields \"tcatt\". The original string will be length 1 or more.\n",
    "\n",
    "\n",
    "backAround(\"cat\") → \"tcatt\"<br>\n",
    "backAround(\"Hello\") → \"oHelloo\"<br>\n",
    "backAround(\"a\") → \"aaa\""
   ]
  },
  {
   "cell_type": "code",
   "execution_count": 14,
   "metadata": {},
   "outputs": [],
   "source": [
    "public String backAround(String str) {\n",
    "  char last = str.charAt(str.length() - 1);\n",
    "  return last + str + last;\n",
    "}\n",
    "\n",
    "assertTrue(backAround(\"cat\").equals(\"tcatt\"));\n",
    "assertTrue(backAround(\"Hello\").equals(\"oHelloo\"));\n",
    "assertTrue(backAround(\"a\").equals(\"aaa\"));"
   ]
  },
  {
   "cell_type": "markdown",
   "metadata": {},
   "source": [
    "## or35\n",
    "Return true if the given non-negative number is a multiple of 3 or a multiple of 5. Use the % \"mod\" operator -- see Introduction to Mod\n",
    "\n",
    "\n",
    "or35(3) → true<br>\n",
    "or35(10) → true<br>\n",
    "or35(8) → false"
   ]
  },
  {
   "cell_type": "code",
   "execution_count": 15,
   "metadata": {},
   "outputs": [],
   "source": [
    "public boolean or35(int n) {\n",
    "    return ( n % 3 == 0 || n % 5 == 0);\n",
    "}\n",
    "\n",
    "assertTrue(or35(3) == true);\n",
    "assertTrue(or35(10) == true);\n",
    "assertTrue(or35(8) == false);"
   ]
  },
  {
   "cell_type": "markdown",
   "metadata": {},
   "source": [
    "## front22\n",
    "\n",
    "Given a string, take the first 2 chars and return the string with the 2 chars added at both the front and back, so \"kitten\" yields\"kikittenki\". If the string length is less than 2, use whatever chars are there.\n",
    "\n",
    "\n",
    "front22(\"kitten\") → \"kikittenki\"<br>\n",
    "front22(\"Ha\") → \"HaHaHa\"<br>\n",
    "front22(\"abc\") → \"ababcab\""
   ]
  },
  {
   "cell_type": "code",
   "execution_count": 16,
   "metadata": {},
   "outputs": [],
   "source": [
    "public String front22(String str) {\n",
    "  String first2 = str;\n",
    "  if (str.length() >= 2) {\n",
    "    first2 = str.substring(0, 2);\n",
    "  }\n",
    "  \n",
    "  return first2 + str + first2;\n",
    "}\n",
    "\n",
    "assertTrue(front22(\"kitten\").equals(\"kikittenki\"));\n",
    "assertTrue(front22(\"Ha\").equals(\"HaHaHa\"));\n",
    "assertTrue(front22(\"abc\").equals(\"ababcab\"));"
   ]
  },
  {
   "cell_type": "markdown",
   "metadata": {},
   "source": [
    "## startHi\n",
    "\n",
    "Given a string, return true if the string starts with \"hi\" and false otherwise.\n",
    "\n",
    "\n",
    "startHi(\"hi there\") → true<br>\n",
    "startHi(\"hi\") → true<br>\n",
    "startHi(\"hello hi\") → false\n"
   ]
  },
  {
   "cell_type": "code",
   "execution_count": 17,
   "metadata": {},
   "outputs": [],
   "source": [
    "public boolean startHi(String str) {\n",
    "  if (str.length() < 2) {\n",
    "      return false;\n",
    "  }\n",
    "  \n",
    "  return (str.substring(0,2).equals(\"hi\"));\n",
    "}\n",
    "\n",
    "\n",
    "assertTrue(startHi(\"hi there\") == true);\n",
    "assertTrue(startHi(\"hi\") == true);\n",
    "assertTrue(startHi(\"hello hi\") == false);"
   ]
  },
  {
   "cell_type": "markdown",
   "metadata": {},
   "source": [
    "## icyHot\n",
    "\n",
    "Given two temperatures, return true if one is less than 0 and the other is greater than 100.\n",
    "\n",
    "\n",
    "icyHot(120, -1) → true<br>\n",
    "icyHot(-1, 120) → true<br>\n",
    "icyHot(2, 120) → false"
   ]
  },
  {
   "cell_type": "code",
   "execution_count": 18,
   "metadata": {},
   "outputs": [],
   "source": [
    "public boolean icyHot(int temp1, int temp2) {\n",
    "  return ((temp1 < 0 && temp2 > 100) || (temp1 > 100 && temp2 < 0));\n",
    "}\n",
    "\n",
    "assertTrue(icyHot(120, -1) == true);\n",
    "assertTrue(icyHot(-1, 120) == true);\n",
    "assertTrue(icyHot(2, 120) == false);\n"
   ]
  },
  {
   "cell_type": "markdown",
   "metadata": {},
   "source": [
    "## in1020\n",
    "Given 2 int values, return true if either of them is in the range 10..20 inclusive.\n",
    "\n",
    "\n",
    "in1020(12, 99) → true<br>\n",
    "in1020(21, 12) → true<br>\n",
    "in1020(8, 99) → false"
   ]
  },
  {
   "cell_type": "code",
   "execution_count": 19,
   "metadata": {},
   "outputs": [],
   "source": [
    "public boolean in1020(int a, int b) {\n",
    "  return ((a >= 10 && a <= 20) || (b >= 10 && b <= 20));\n",
    "}\n",
    "\n",
    "\n",
    "assertTrue(in1020(12, 99) == true);\n",
    "assertTrue(in1020(21, 12) == true);\n",
    "assertTrue(in1020(8, 99) == false);"
   ]
  },
  {
   "cell_type": "markdown",
   "metadata": {},
   "source": [
    "## hasTeen\n",
    "We'll say that a number is \"teen\" if it is in the range 13..19 inclusive. Given 3 int values, return true if 1 or more of them are teen.\n",
    "\n",
    "\n",
    "hasTeen(13, 20, 10) → true<br>\n",
    "hasTeen(20, 19, 10) → true<br>\n",
    "hasTeen(20, 10, 13) → true"
   ]
  },
  {
   "cell_type": "code",
   "execution_count": 20,
   "metadata": {},
   "outputs": [],
   "source": [
    "public boolean hasTeen(int a, int b, int c) {\n",
    "  return ((a >= 13 && a <=19) || \n",
    "  (b >= 13 && b <=19) || \n",
    "  (c >= 13 && c <=19));\n",
    "}\n",
    "\n",
    "assertTrue(hasTeen(13, 20, 10) == true);\n",
    "assertTrue(hasTeen(20, 19, 10) == true);\n",
    "assertTrue(hasTeen(20, 10, 13) == true);\n",
    "assertTrue(hasTeen(20, 10, 12) == false);\n"
   ]
  },
  {
   "cell_type": "markdown",
   "metadata": {},
   "source": [
    "## loneTeen\n",
    "\n",
    "We'll say that a number is \"teen\" if it is in the range 13..19 inclusive. Given 2 int values, return true if one or the other is teen, but not both.\n",
    "\n",
    "\n",
    "loneTeen(13, 99) → true<br>\n",
    "loneTeen(21, 19) → true<br>\n",
    "loneTeen(13, 13) → false"
   ]
  },
  {
   "cell_type": "code",
   "execution_count": 21,
   "metadata": {},
   "outputs": [],
   "source": [
    "public boolean loneTeen(int a, int b) {\n",
    "  return ((a >= 13 && a <=19) ^ \n",
    "  (b >= 13 && b <=19));\n",
    "}\n",
    "\n",
    "assertTrue(loneTeen(13, 99) == true);\n",
    "assertTrue(loneTeen(21, 19) == true);\n",
    "assertTrue(loneTeen(13, 13) == false);\n",
    "\n",
    "\n"
   ]
  },
  {
   "cell_type": "markdown",
   "metadata": {},
   "source": [
    "## delDel\n",
    "\n",
    "Given a string, if the string \"del\" appears starting at index 1, return a string where that \"del\" has been deleted. Otherwise, return the string unchanged.\n",
    "\n",
    "\n",
    "delDel(\"adelbc\") → \"abc\"<br>\n",
    "delDel(\"adelHello\") → \"aHello\"<br>\n",
    "delDel(\"adedbc\") → \"adedbc\""
   ]
  },
  {
   "cell_type": "code",
   "execution_count": 22,
   "metadata": {},
   "outputs": [],
   "source": [
    "public String delDel(String str) {\n",
    "  if (str.length()>=4 && str.substring(1, 4).equals(\"del\")) {\n",
    "    return str.replaceFirst(\"del\",\"\");\n",
    "  }\n",
    "  return str;\n",
    "}\n",
    "\n",
    "assertTrue(delDel(\"adelbc\").equals(\"abc\"));\n",
    "assertTrue(delDel(\"adelHello\").equals(\"aHello\"));\n",
    "assertTrue(delDel(\"adedbc\").equals(\"adedbc\"));\n",
    "\n"
   ]
  },
  {
   "cell_type": "markdown",
   "metadata": {},
   "source": [
    "## mixStart\n",
    "\n",
    "Return true if the given string begins with \"mix\", except the 'm' can be anything, so \"pix\", \"9ix\" .. all count.\n",
    "\n",
    "\n",
    "mixStart(\"mix snacks\") → true<br>\n",
    "mixStart(\"pix snacks\") → true<br>\n",
    "mixStart(\"piz snacks\") → false"
   ]
  },
  {
   "cell_type": "code",
   "execution_count": 23,
   "metadata": {},
   "outputs": [],
   "source": [
    "public boolean mixStart(String str) {\n",
    "  return (str.length() >= 3 && str.substring(1,3).equals(\"ix\"));\n",
    "}\n",
    "\n",
    "assertTrue(mixStart(\"mix snacks\") == true);\n",
    "assertTrue(mixStart(\"pix snacks\") == true);\n",
    "assertTrue(mixStart(\"piz snacks\") == false);"
   ]
  },
  {
   "cell_type": "markdown",
   "metadata": {},
   "source": [
    "## startOz\n",
    "\n",
    "Given a string, return a string made of the first 2 chars (if present), however include first char only if it is 'o' and include the second only if it is 'z', so \"ozymandias\" yields \"oz\".\n",
    "\n",
    "\n",
    "startOz(\"ozymandias\") → \"oz\"<br>\n",
    "startOz(\"bzoo\") → \"z\"<br>\n",
    "startOz(\"oxx\") → \"o\""
   ]
  },
  {
   "cell_type": "code",
   "execution_count": 24,
   "metadata": {},
   "outputs": [],
   "source": [
    "public String startOz(String str) {\n",
    "  String first = \"\";\n",
    "  String second = \"\";\n",
    "  if (str.length() >= 1 && str.charAt(0) == 'o') {\n",
    "    first = \"o\";\n",
    "  }\n",
    "  if (str.length() >= 2 && str.charAt(1) == 'z') {\n",
    "    second = \"z\";\n",
    "  }\n",
    "  return first + second;\n",
    "}\n",
    "\n",
    "\n",
    "assertTrue(startOz(\"ozymandias\").equals(\"oz\"));\n",
    "assertTrue(startOz(\"bzoo\").equals(\"z\"));\n",
    "assertTrue(startOz(\"oxx\").equals(\"o\"));"
   ]
  },
  {
   "cell_type": "markdown",
   "metadata": {},
   "source": [
    "## intMax\n",
    "\n",
    "Given three int values, a b c, return the largest.\n",
    "\n",
    "\n",
    "intMax(1, 2, 3) → 3<br>\n",
    "intMax(1, 3, 2) → 3<br>\n",
    "intMax(3, 2, 1) → 3"
   ]
  },
  {
   "cell_type": "code",
   "execution_count": 25,
   "metadata": {},
   "outputs": [],
   "source": [
    "public int intMax(int a, int b, int c) {\n",
    "  return Math.max(Math.max(a, b), c);\n",
    "}\n",
    "\n",
    "\n",
    "assertTrue(intMax(1, 2, 3) == 3);\n",
    "assertTrue(intMax(1, 3, 2) == 3);\n",
    "assertTrue(intMax(3, 2, 1) == 3);"
   ]
  },
  {
   "cell_type": "markdown",
   "metadata": {},
   "source": [
    "## close10\n",
    "\n",
    "Given 2 int values, return whichever value is nearest to the value 10, or return 0 in the event of a tie. Note that Math.abs(n) returns the absolute value of a number.\n",
    "\n",
    "\n",
    "close10(8, 13) → 8<br>\n",
    "close10(13, 8) → 8<br>\n",
    "close10(13, 7) → 0"
   ]
  },
  {
   "cell_type": "code",
   "execution_count": 26,
   "metadata": {},
   "outputs": [],
   "source": [
    "public int close10(int a, int b) {\n",
    "  int aDiff = Math.abs(a - 10);\n",
    "  int bDiff = Math.abs(b - 10);\n",
    "  \n",
    "  if (aDiff < bDiff){\n",
    "    return a;\n",
    "  }\n",
    "  else if (aDiff > bDiff){\n",
    "    return b;\n",
    "  }\n",
    "  else {\n",
    "    return 0;\n",
    "  }\n",
    "}\n",
    "\n",
    "\n",
    "assertTrue(close10(8, 13) == 8);\n",
    "assertTrue(close10(13, 8) == 8);\n",
    "assertTrue(close10(13, 7) == 0);"
   ]
  },
  {
   "cell_type": "markdown",
   "metadata": {},
   "source": [
    "## in3050\n",
    "\n",
    "Given 2 int values, return true if they are both in the range 30..40 inclusive, or they are both in the range 40..50 inclusive.\n",
    "\n",
    "\n",
    "in3050(30, 31) → true<br>\n",
    "in3050(30, 41) → false<br>\n",
    "in3050(40, 50) → true\n"
   ]
  },
  {
   "cell_type": "code",
   "execution_count": 27,
   "metadata": {},
   "outputs": [],
   "source": [
    "public boolean in3050(int a, int b) {\n",
    "  if ((a >= 30 && a <= 40) && (b >= 30 && b <= 40)){\n",
    "    return true;\n",
    "  }\n",
    "  if ((a >= 40 && a <= 50) && (b >= 40 && b <= 50)){\n",
    "    return true;\n",
    "  }\n",
    "  return false;\n",
    "}\n",
    "\n",
    "\n",
    "assertTrue(in3050(30, 31) == true);\n",
    "assertTrue(in3050(30, 41) == false);\n",
    "assertTrue(in3050(40, 50) == true);"
   ]
  },
  {
   "cell_type": "markdown",
   "metadata": {},
   "source": [
    "## max1020\n",
    "\n",
    "Given 2 positive int values, return the larger value that is in the range 10..20 inclusive, or return 0 if neither is in that range.\n",
    "\n",
    "\n",
    "max1020(11, 19) → 19<br>\n",
    "max1020(19, 11) → 19<br>\n",
    "max1020(11, 9) → 11"
   ]
  },
  {
   "cell_type": "code",
   "execution_count": 28,
   "metadata": {},
   "outputs": [],
   "source": [
    "public int max1020(int a, int b) {\n",
    "  int larger = Math.max(a, b);\n",
    "  int smaller = Math.min(a, b);\n",
    "  if (larger >= 10 && larger <= 20){\n",
    "    return larger;\n",
    "  }\n",
    "  if (smaller >= 10 && smaller <= 20){\n",
    "    return smaller;\n",
    "  }\n",
    "  return 0;\n",
    "}\n",
    "\n",
    "assertTrue(max1020(11, 19) == 19);\n",
    "assertTrue(max1020(19, 11) == 19);\n",
    "assertTrue(max1020(11, 9) == 11);\n"
   ]
  },
  {
   "cell_type": "markdown",
   "metadata": {},
   "source": [
    "## stringE\n",
    "\n",
    "Return true if the given string contains between 1 and 3 'e' chars.\n",
    "\n",
    "\n",
    "stringE(\"Hello\") → true<br>\n",
    "stringE(\"Heelle\") → true<br>\n",
    "stringE(\"Heelele\") → false"
   ]
  },
  {
   "cell_type": "code",
   "execution_count": 29,
   "metadata": {},
   "outputs": [],
   "source": [
    "public boolean stringE(String str) {\n",
    "  int counter = 0;\n",
    "\n",
    "  for (int n=0; n<str.length(); n++) {\n",
    "    if (str.charAt(n) == 'e') {\n",
    "        counter++;\n",
    "    }\n",
    "  }\n",
    "\n",
    "  return (counter >= 1 && counter <= 3);\n",
    "}\n",
    "\n",
    "assertTrue(stringE(\"Hello\") == true);\n",
    "assertTrue(stringE(\"Heelle\") == true);\n",
    "assertTrue(stringE(\"Heelele\") == false);"
   ]
  },
  {
   "cell_type": "markdown",
   "metadata": {},
   "source": [
    "## lastDigit\n",
    "Given two non-negative int values, return true if they have the same last digit, such as with 27 and 57. Note that the % \"mod\" operator computes remainders, so 17 % 10 is 7.\n",
    "\n",
    "\n",
    "lastDigit(7, 17) → true<br>\n",
    "lastDigit(6, 17) → false<br>\n",
    "lastDigit(3, 113) → true"
   ]
  },
  {
   "cell_type": "code",
   "execution_count": 32,
   "metadata": {},
   "outputs": [],
   "source": [
    "public boolean lastDigit(int a, int b) {\n",
    "  return (a % 10 == b % 10);\n",
    "}\n",
    "\n",
    "assertTrue(lastDigit(7, 17) == true);\n",
    "assertTrue(lastDigit(6, 17) == false);\n",
    "assertTrue(lastDigit(3, 113) == true);"
   ]
  },
  {
   "cell_type": "markdown",
   "metadata": {},
   "source": [
    "## endUp\n",
    "\n",
    "Given a string, return a new string where the last 3 chars are now in upper case. If the string has less than 3 chars, uppercase whatever is there. Note that str.toUpperCase() returns the uppercase version of a string.\n",
    "\n",
    "\n",
    "endUp(\"Hello\") → \"HeLLO\"<br>\n",
    "endUp(\"hi there\") → \"hi thERE\"<br>\n",
    "endUp(\"hi\") → \"HI\"\n"
   ]
  },
  {
   "cell_type": "code",
   "execution_count": 38,
   "metadata": {},
   "outputs": [],
   "source": [
    "public String endUp(String str) {\n",
    "  if (str.length() < 3) {\n",
    "    return str.toUpperCase();\n",
    "  }\n",
    "  \n",
    "  String pre = str.substring(0, str.length() - 3);\n",
    "  String post = str.substring(str.length() - 3);\n",
    "  \n",
    "  return pre + post.toUpperCase();\n",
    "}\n",
    "\n",
    "assertTrue(endUp(\"Hello\").equals(\"HeLLO\"));\n",
    "assertTrue(endUp(\"hi there\").equals(\"hi thERE\"));\n",
    "assertTrue(endUp(\"hi\").equals(\"HI\"));"
   ]
  },
  {
   "cell_type": "markdown",
   "metadata": {},
   "source": [
    "## everyNth\n",
    "\n",
    "Given a non-empty string and an int N, return the string made starting with char 0, and then every Nth char of the string. So if N is 3, use char 0, 3, 6, ... and so on. N is 1 or more.\n",
    "\n",
    "\n",
    "everyNth(\"Miracle\", 2) → \"Mrce\"<br>\n",
    "everyNth(\"abcdefg\", 2) → \"aceg\"<br>\n",
    "everyNth(\"abcdefg\", 3) → \"adg\""
   ]
  },
  {
   "cell_type": "code",
   "execution_count": 37,
   "metadata": {},
   "outputs": [],
   "source": [
    "public String everyNth(String str, int n) {\n",
    "  String result = \"\";\n",
    "  \n",
    "  for (int i=0; i<str.length(); i=i+n) {\n",
    "    result = result + str.charAt(i);\n",
    "  }\n",
    "  return result;\n",
    "}\n",
    "\n",
    "\n",
    "assertTrue(everyNth(\"Miracle\", 2).equals(\"Mrce\"));\n",
    "assertTrue(everyNth(\"abcdefg\", 2).equals(\"aceg\"));\n",
    "assertTrue(everyNth(\"abcdefg\", 3).equals(\"adg\"));\n"
   ]
  }
 ],
 "metadata": {
  "kernelspec": {
   "display_name": "Java",
   "language": "java",
   "name": "java"
  },
  "language_info": {
   "codemirror_mode": "java",
   "file_extension": ".jshell",
   "mimetype": "text/x-java-source",
   "name": "Java",
   "pygments_lexer": "java",
   "version": "10+46"
  }
 },
 "nbformat": 4,
 "nbformat_minor": 2
}
