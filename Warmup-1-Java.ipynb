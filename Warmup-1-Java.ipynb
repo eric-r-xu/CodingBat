{
 "cells": [
  {
   "cell_type": "code",
   "execution_count": 2,
   "metadata": {},
   "outputs": [],
   "source": [
    "%maven junit:junit:4.12\n",
    "import static org.junit.Assert.*;"
   ]
  },
  {
   "cell_type": "markdown",
   "metadata": {},
   "source": [
    "## sleepIn\n",
    "\n",
    "The parameter weekday is true if it is a weekday, and the parameter vacation is true if we are on vacation. We sleep in if it is not a weekday or we're on vacation. Return true if we sleep in.\n",
    "\n",
    "\n",
    "sleepIn(false, false) → true<br>\n",
    "sleepIn(true, false) → false<br>\n",
    "sleepIn(false, true) → true"
   ]
  },
  {
   "cell_type": "code",
   "execution_count": 5,
   "metadata": {},
   "outputs": [],
   "source": [
    "public boolean sleepIn(boolean weekday, boolean vacation) {\n",
    "  if (!weekday || vacation) {\n",
    "    return true;\n",
    "  }\n",
    "  return false;\n",
    "}\n",
    "\n",
    "assertTrue(sleepIn(false, false) == true);\n",
    "assertTrue(sleepIn(true, false) == false);\n",
    "assertTrue(sleepIn(false, true) == true);"
   ]
  },
  {
   "cell_type": "markdown",
   "metadata": {},
   "source": [
    "## monkeyTrouble\n",
    "\n",
    "We have two monkeys, a and b, and the parameters aSmile and bSmile indicate if each is smiling. We are in trouble if they are both smiling or if neither of them is smiling. Return true if we are in trouble.\n",
    "\n",
    "\n",
    "monkeyTrouble(true, true) → true<br>\n",
    "monkeyTrouble(false, false) → true<br>\n",
    "monkeyTrouble(true, false) → false"
   ]
  },
  {
   "cell_type": "code",
   "execution_count": 6,
   "metadata": {},
   "outputs": [],
   "source": [
    "public boolean monkeyTrouble(boolean aSmile, boolean bSmile) {\n",
    "  return (aSmile==bSmile);\n",
    "}\n",
    "\n",
    "assertTrue(monkeyTrouble(true, true) == true);\n",
    "assertTrue(monkeyTrouble(false, false) == true);\n",
    "assertTrue(monkeyTrouble(true, false) == false);"
   ]
  },
  {
   "cell_type": "markdown",
   "metadata": {},
   "source": [
    "## sumDouble\n",
    "Given two int values, return their sum. Unless the two values are the same, then return double their sum.\n",
    "\n",
    "\n",
    "sumDouble(1, 2) → 3<br>\n",
    "sumDouble(3, 2) → 5<br>\n",
    "sumDouble(2, 2) → 8"
   ]
  },
  {
   "cell_type": "code",
   "execution_count": 7,
   "metadata": {},
   "outputs": [],
   "source": [
    "public int sumDouble(int a, int b) {\n",
    "  if (a==b) {\n",
    "    return 2*(a+b);\n",
    "  }\n",
    "  \n",
    "  return a+b;\n",
    "}\n",
    "\n",
    "assertTrue(sumDouble(1, 2) == 3);\n",
    "assertTrue(sumDouble(3, 2) == 5);\n",
    "assertTrue(sumDouble(2, 2) == 8);"
   ]
  },
  {
   "cell_type": "markdown",
   "metadata": {},
   "source": [
    "## diff21\n",
    "Given an int n, return the absolute difference between n and 21, except return double the absolute difference if n is over 21.\n",
    "\n",
    "\n",
    "diff21(19) → 2<br>\n",
    "diff21(10) → 11<br>\n",
    "diff21(21) → 0"
   ]
  },
  {
   "cell_type": "code",
   "execution_count": 8,
   "metadata": {},
   "outputs": [],
   "source": [
    "public int diff21(int n) {\n",
    "  int diff = (n-21);\n",
    "  if (diff < 0) {\n",
    "    diff = -1*diff;\n",
    "  }\n",
    "  if (n>21) {\n",
    "    return 2*diff;\n",
    "  }\n",
    "  return diff;\n",
    "}\n",
    "\n",
    "assertTrue(diff21(19) == 2);\n",
    "assertTrue(diff21(10) == 11);\n",
    "assertTrue(diff21(21) == 0);"
   ]
  }
 ],
 "metadata": {
  "kernelspec": {
   "display_name": "Java",
   "language": "java",
   "name": "java"
  },
  "language_info": {
   "codemirror_mode": "java",
   "file_extension": ".jshell",
   "mimetype": "text/x-java-source",
   "name": "Java",
   "pygments_lexer": "java",
   "version": "10+46"
  }
 },
 "nbformat": 4,
 "nbformat_minor": 2
}
