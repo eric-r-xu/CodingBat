{
 "cells": [
  {
   "cell_type": "markdown",
   "metadata": {},
   "source": [
    "## string_times\n",
    "\n",
    "Given a string and a non-negative int n, return a larger string that is n copies of the original string.\n",
    "\n",
    "\n",
    "string_times('Hi', 2) → 'HiHi'<br>\n",
    "string_times('Hi', 3) → 'HiHiHi'<br>\n",
    "string_times('Hi', 1) → 'Hi'"
   ]
  },
  {
   "cell_type": "code",
   "execution_count": 1,
   "metadata": {},
   "outputs": [],
   "source": [
    "def string_times(str, n):\n",
    "    return str*n\n",
    "\n",
    "assert string_times('Hi', 2) == 'HiHi'\n",
    "assert string_times('Hi', 3) == 'HiHiHi'\n",
    "assert string_times('Hi', 1) == 'Hi'"
   ]
  },
  {
   "cell_type": "markdown",
   "metadata": {},
   "source": [
    "## front_times\n",
    "\n",
    "Given a string and a non-negative int n, we'll say that the front of the string is the first 3 chars, or whatever is there if the string is less than length 3. Return n copies of the front;\n",
    "\n",
    "\n",
    "front_times('Chocolate', 2) → 'ChoCho'<br>\n",
    "front_times('Chocolate', 3) → 'ChoChoCho'<br>\n",
    "front_times('Abc', 3) → 'AbcAbcAbc'"
   ]
  },
  {
   "cell_type": "code",
   "execution_count": 2,
   "metadata": {},
   "outputs": [],
   "source": [
    "def front_times(str, n):\n",
    "    if len(str) < 3:\n",
    "        front = str\n",
    "        return str*n\n",
    "    return str[0:3]*n\n",
    "\n",
    "assert front_times('Chocolate', 2) == 'ChoCho'\n",
    "assert front_times('Chocolate', 3) == 'ChoChoCho'\n",
    "assert front_times('Abc', 3) == 'AbcAbcAbc'"
   ]
  },
  {
   "cell_type": "markdown",
   "metadata": {},
   "source": [
    "## string_bits\n",
    "\n",
    "Given a string, return a new string made of every other char starting with the first, so \"Hello\" yields \"Hlo\".\n",
    "\n",
    "\n",
    "string_bits('Hello') → 'Hlo'<br>\n",
    "string_bits('Hi') → 'H'<br>\n",
    "string_bits('Heeololeo') → 'Hello'"
   ]
  },
  {
   "cell_type": "code",
   "execution_count": 3,
   "metadata": {},
   "outputs": [],
   "source": [
    "def string_bits(str):\n",
    "    out = []\n",
    "    for x in range(0,len(str)):\n",
    "        if x % 2 == 0:\n",
    "            out.append(str[x])\n",
    "    return ''.join(out)\n",
    "\n",
    "assert string_bits('Hello') == 'Hlo'\n",
    "assert string_bits('Hi') == 'H'\n",
    "assert string_bits('Heeololeo') == 'Hello'"
   ]
  },
  {
   "cell_type": "markdown",
   "metadata": {},
   "source": [
    "## string_splosion\n",
    "\n",
    "Given a non-empty string like \"Code\" return a string like \"CCoCodCode\".\n",
    "\n",
    "\n",
    "string_splosion('Code') → 'CCoCodCode'<br>\n",
    "string_splosion('abc') → 'aababc'<br>\n",
    "string_splosion('ab') → 'aab'"
   ]
  },
  {
   "cell_type": "code",
   "execution_count": 4,
   "metadata": {},
   "outputs": [],
   "source": [
    "def string_splosion(str):\n",
    "    output = []\n",
    "    for i in range(0,len(str)):\n",
    "        output.append(str[0:i+1])\n",
    "    return ''.join(output)\n",
    "\n",
    "assert string_splosion('Code') == 'CCoCodCode'\n",
    "assert string_splosion('abc') == 'aababc'\n",
    "assert string_splosion('ab') == 'aab'"
   ]
  },
  {
   "cell_type": "markdown",
   "metadata": {},
   "source": [
    "## last2\n",
    "\n",
    "Given a string, return the count of the number of times that a substring length 2 appears in the string and also as the last 2 chars of the string, so \"hixxxhi\" yields 1 (we won't count the end substring).\n",
    "\n",
    "\n",
    "last2('hixxhi') → 1<br>\n",
    "last2('xaxxaxaxx') → 1<br>\n",
    "last2('axxxaaxx') → 2"
   ]
  },
  {
   "cell_type": "code",
   "execution_count": 5,
   "metadata": {},
   "outputs": [],
   "source": [
    "def last2(str):\n",
    "    if len(str) < 2:\n",
    "        return 0\n",
    "    last = str[-2:]\n",
    "    count = 0\n",
    "    for i in range(0, len(str)-2):\n",
    "        if str[i:i+2].count(last) == 1:\n",
    "            count+=1\n",
    "    return count\n",
    "\n",
    "assert last2('hixxhi') == 1\n",
    "assert last2('xaxxaxaxx') == 1\n",
    "assert last2('axxxaaxx') == 2"
   ]
  },
  {
   "cell_type": "markdown",
   "metadata": {},
   "source": [
    "## array_count9\n",
    "\n",
    "Given an array of ints, return the number of 9's in the array.\n",
    "\n",
    "\n",
    "array_count9([1, 2, 9]) → 1<br>\n",
    "array_count9([1, 9, 9]) → 2<br>\n",
    "array_count9([1, 9, 9, 3, 9]) → 3"
   ]
  },
  {
   "cell_type": "code",
   "execution_count": 6,
   "metadata": {},
   "outputs": [],
   "source": [
    "def array_count9(nums):\n",
    "    return nums.count(9)\n",
    "\n",
    "assert array_count9([1, 2, 9]) == 1\n",
    "assert array_count9([1, 9, 9]) == 2\n",
    "assert array_count9([1, 9, 9, 3, 9]) == 3"
   ]
  },
  {
   "cell_type": "markdown",
   "metadata": {},
   "source": [
    "## array123\n",
    "\n",
    "Given an array of ints, return True if the sequence of numbers 1, 2, 3 appears in the array somewhere.\n",
    "\n",
    "\n",
    "array123([1, 1, 2, 3, 1]) → True<br>\n",
    "array123([1, 1, 2, 4, 1]) → False<br>\n",
    "array123([1, 1, 2, 1, 2, 3]) → True"
   ]
  },
  {
   "cell_type": "code",
   "execution_count": 8,
   "metadata": {},
   "outputs": [],
   "source": [
    "def array123(nums):\n",
    "    if len(nums) == 0:\n",
    "        return False\n",
    "    return ','.join(map(str,nums)).count('1,2,3') > 0\n",
    "\n",
    "assert array123([1, 1, 2, 3, 1]) == True\n",
    "assert array123([1, 1, 2, 4, 1]) == False\n",
    "assert array123([1, 1, 2, 1, 2, 3]) == True"
   ]
  },
  {
   "cell_type": "markdown",
   "metadata": {},
   "source": [
    "## string_match\n",
    "Given 2 strings, a and b, return the number of the positions where they contain the same length 2 substring. So \"xxcaazz\" and \"xxbaaz\" yields 3, since the \"xx\", \"aa\", and \"az\" substrings appear in the same place in both strings.\n",
    "\n",
    "\n",
    "string_match('xxcaazz', 'xxbaaz') → 3<br>\n",
    "string_match('abc', 'abc') → 2<br>\n",
    "string_match('abc', 'axc') → 0"
   ]
  },
  {
   "cell_type": "code",
   "execution_count": 11,
   "metadata": {},
   "outputs": [],
   "source": [
    "def string_match(a, b):\n",
    "    out = 0\n",
    "    for x in range(0, min(len(a),len(b))-1):\n",
    "        if a[x:x+2] == b[x:x+2]:\n",
    "            out += 1\n",
    "    return out\n",
    "\n",
    "assert string_match('xxcaazz', 'xxbaaz') == 3\n",
    "assert string_match('abc', 'abc') == 2\n",
    "assert string_match('abc', 'axc') == 0"
   ]
  }
 ],
 "metadata": {
  "kernelspec": {
   "display_name": "Python 3",
   "language": "python",
   "name": "python3"
  },
  "language_info": {
   "codemirror_mode": {
    "name": "ipython",
    "version": 3
   },
   "file_extension": ".py",
   "mimetype": "text/x-python",
   "name": "python",
   "nbconvert_exporter": "python",
   "pygments_lexer": "ipython3",
   "version": "3.7.3"
  }
 },
 "nbformat": 4,
 "nbformat_minor": 2
}
