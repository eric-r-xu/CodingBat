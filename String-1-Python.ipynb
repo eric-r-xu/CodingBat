{
 "cells": [
  {
   "cell_type": "markdown",
   "metadata": {},
   "source": [
    "## hello_name\n",
    "\n",
    "Given a string name, e.g. \"Bob\", return a greeting of the form \"Hello Bob!\".\n",
    "\n",
    "\n",
    "hello_name('Bob') → 'Hello Bob!'<br>\n",
    "hello_name('Alice') → 'Hello Alice!'<br>\n",
    "hello_name('X') → 'Hello X!'"
   ]
  },
  {
   "cell_type": "code",
   "execution_count": 4,
   "metadata": {},
   "outputs": [],
   "source": [
    "def hello_name(name):\n",
    "    return ''.join(['Hello ',name,'!'])\n",
    "\n",
    "assert hello_name('Bob') == 'Hello Bob!'\n",
    "assert hello_name('Alice') == 'Hello Alice!'\n",
    "assert hello_name('X') == 'Hello X!'"
   ]
  },
  {
   "cell_type": "markdown",
   "metadata": {},
   "source": [
    "## make_abba"
   ]
  },
  {
   "cell_type": "raw",
   "metadata": {},
   "source": [
    "Given two strings, a and b, return the result of putting them together in the order abba, e.g. \"Hi\" and \"Bye\" returns \"HiByeByeHi\".\n",
    "\n",
    "\n",
    "make_abba('Hi', 'Bye') → 'HiByeByeHi' <br>\n",
    "make_abba('Yo', 'Alice') → 'YoAliceAliceYo' <br>\n",
    "make_abba('What', 'Up') → 'WhatUpUpWhat' <br>"
   ]
  },
  {
   "cell_type": "code",
   "execution_count": 5,
   "metadata": {},
   "outputs": [],
   "source": [
    "def make_abba(a, b):\n",
    "    return ''.join([a,b,b,a])\n",
    "\n",
    "assert make_abba('Hi', 'Bye') == 'HiByeByeHi'\n",
    "assert make_abba('Yo', 'Alice') == 'YoAliceAliceYo'\n",
    "assert make_abba('What', 'Up') == 'WhatUpUpWhat'"
   ]
  },
  {
   "cell_type": "markdown",
   "metadata": {},
   "source": [
    "## make_tags"
   ]
  },
  {
   "cell_type": "raw",
   "metadata": {},
   "source": [
    "# The web is built with HTML strings like \"<i>Yay</i>\" which draws Yay as italic text. In this example, the \"i\" tag makes <i> and </i> which surround the word \"Yay\". Given tag and word strings, create the HTML string with tags around the word, e.g. \"<i>Yay</i>\".\n",
    "\n",
    "\n",
    "make_tags('i', 'Yay') → '<i>Yay</i>' \n",
    "make_tags('i', 'Hello') → '<i>Hello</i>' \n",
    "make_tags('cite', 'Yay') → '<cite>Yay</cite>'"
   ]
  },
  {
   "cell_type": "code",
   "execution_count": 8,
   "metadata": {},
   "outputs": [],
   "source": [
    "def make_tags(tag, word):\n",
    "    return ''.join(['<',tag, '>', word, '</', tag, '>'])\n",
    "\n",
    "assert make_tags('i', 'Yay') == '<i>Yay</i>' \n",
    "assert make_tags('i', 'Hello') == '<i>Hello</i>' \n",
    "assert make_tags('cite', 'Yay') == '<cite>Yay</cite>'"
   ]
  },
  {
   "cell_type": "markdown",
   "metadata": {},
   "source": [
    "## make_out_word"
   ]
  },
  {
   "cell_type": "raw",
   "metadata": {},
   "source": [
    "Given an \"out\" string length 4, such as \"<<>>\", and a word, return a new string where the word is in the middle of the out string, e.g. \"<<word>>\".\n",
    "\n",
    "\n",
    "make_out_word('<<>>', 'Yay') → '<<Yay>>' \n",
    "make_out_word('<<>>', 'WooHoo') → '<<WooHoo>>' \n",
    "make_out_word('[[]]', 'word') → '[[word]]'"
   ]
  },
  {
   "cell_type": "code",
   "execution_count": 12,
   "metadata": {},
   "outputs": [],
   "source": [
    "def make_out_word(out, word):\n",
    "    return ''.join([out[0:2], word, out[2:]])\n",
    "\n",
    "assert make_out_word('<<>>', 'Yay') == '<<Yay>>'\n",
    "assert make_out_word('<<>>', 'WooHoo') == '<<WooHoo>>' \n",
    "assert make_out_word('[[]]', 'word') == '[[word]]'"
   ]
  },
  {
   "cell_type": "markdown",
   "metadata": {},
   "source": [
    "## extra_end\n",
    "\n",
    "Given a string, return a new string made of 3 copies of the last 2 chars of the original string. The string length will be at least 2.\n",
    "\n",
    "\n",
    "extra_end('Hello') → 'lololo'<br>\n",
    "extra_end('ab') → 'ababab'<br>\n",
    "extra_end('Hi') → 'HiHiHi'"
   ]
  },
  {
   "cell_type": "code",
   "execution_count": 14,
   "metadata": {},
   "outputs": [],
   "source": [
    "def extra_end(str):\n",
    "    return str[-2:]*3\n",
    "\n",
    "assert extra_end('Hello') == 'lololo'\n",
    "assert extra_end('ab') == 'ababab'\n",
    "assert extra_end('Hi') == 'HiHiHi'"
   ]
  },
  {
   "cell_type": "markdown",
   "metadata": {},
   "source": [
    "## first_two\n",
    "\n",
    "Given a string, return the string made of its first two chars, so the String \"Hello\" yields \"He\". If the string is shorter than length 2, return whatever there is, so \"X\" yields \"X\", and the empty string \"\" yields the empty string \"\".\n",
    "\n",
    "\n",
    "first_two('Hello') → 'He' <br>\n",
    "first_two('abcdefg') → 'ab' <br>\n",
    "first_two('ab') → 'ab'"
   ]
  },
  {
   "cell_type": "code",
   "execution_count": 17,
   "metadata": {},
   "outputs": [],
   "source": [
    "def first_two(str):\n",
    "    if len(str)<2:\n",
    "        return str\n",
    "    return str[0:2]\n",
    "\n",
    "assert first_two('Hello') == 'He'\n",
    "assert first_two('abcdefg') == 'ab'\n",
    "assert first_two('ab') == 'ab'"
   ]
  },
  {
   "cell_type": "markdown",
   "metadata": {},
   "source": [
    "## first_half\n",
    "\n",
    "Given a string of even length, return the first half. So the string \"WooHoo\" yields \"Woo\".\n",
    "\n",
    "\n",
    "first_half('WooHoo') → 'Woo'<br>\n",
    "first_half('HelloThere') → 'Hello'<br>\n",
    "first_half('abcdef') → 'abc'"
   ]
  },
  {
   "cell_type": "code",
   "execution_count": 21,
   "metadata": {},
   "outputs": [],
   "source": [
    "def first_half(str):\n",
    "    return str[0:int(len(str)/2)]\n",
    "\n",
    "assert first_half('WooHoo') == 'Woo'\n",
    "assert first_half('HelloThere') == 'Hello'\n",
    "assert first_half('abcdef') == 'abc'"
   ]
  },
  {
   "cell_type": "markdown",
   "metadata": {},
   "source": [
    "## without_end\n",
    "\n",
    "Given a string, return a version without the first and last char, so \"Hello\" yields \"ell\". The string length will be at least 2.\n",
    "\n",
    "\n",
    "without_end('Hello') → 'ell'<br>\n",
    "without_end('java') → 'av'<br>\n",
    "without_end('coding') → 'odin'"
   ]
  },
  {
   "cell_type": "code",
   "execution_count": 23,
   "metadata": {},
   "outputs": [],
   "source": [
    "def without_end(str):\n",
    "    return str[1:-1]\n",
    "\n",
    "assert without_end('Hello') == 'ell'\n",
    "assert without_end('java') == 'av'\n",
    "assert without_end('coding') == 'odin'"
   ]
  },
  {
   "cell_type": "markdown",
   "metadata": {},
   "source": [
    "## combo_string\n",
    "\n",
    "Given 2 strings, a and b, return a string of the form short+long+short, with the shorter string on the outside and the longer string on the inside. The strings will not be the same length, but they may be empty (length 0).\n",
    "\n",
    "\n",
    "combo_string('Hello', 'hi') → 'hiHellohi'<br>\n",
    "combo_string('hi', 'Hello') → 'hiHellohi'<br>\n",
    "combo_string('aaa', 'b') → 'baaab'"
   ]
  },
  {
   "cell_type": "code",
   "execution_count": 24,
   "metadata": {},
   "outputs": [],
   "source": [
    "def combo_string(a, b):\n",
    "    if len(a) > len(b):\n",
    "        return ''.join([b, a, b])\n",
    "    return ''.join([a, b, a])\n",
    "\n",
    "assert combo_string('Hello', 'hi') == 'hiHellohi'\n",
    "assert combo_string('hi', 'Hello') == 'hiHellohi'\n",
    "assert combo_string('aaa', 'b') == 'baaab'"
   ]
  },
  {
   "cell_type": "markdown",
   "metadata": {},
   "source": [
    "## non_start\n",
    "\n",
    "Given 2 strings, return their concatenation, except omit the first char of each. The strings will be at least length 1.\n",
    "\n",
    "\n",
    "non_start('Hello', 'There') → 'ellohere'<br>\n",
    "non_start('java', 'code') → 'avaode'<br>\n",
    "non_start('shotl', 'java') → 'hotlava'"
   ]
  },
  {
   "cell_type": "code",
   "execution_count": 28,
   "metadata": {},
   "outputs": [],
   "source": [
    "def non_start(a, b):\n",
    "    return ''.join([a[1:], b[1:]])\n",
    "\n",
    "assert non_start('Hello', 'There') == 'ellohere'\n",
    "assert non_start('java', 'code') == 'avaode'\n",
    "assert non_start('shotl', 'java') == 'hotlava'"
   ]
  },
  {
   "cell_type": "markdown",
   "metadata": {},
   "source": [
    "## left2\n",
    "\n",
    "Given a string, return a \"rotated left 2\" version where the first 2 chars are moved to the end. The string length will be at least 2.\n",
    "\n",
    "\n",
    "left2('Hello') → 'lloHe'<br>\n",
    "left2('java') → 'vaja'<br>\n",
    "left2('Hi') → 'Hi'\n"
   ]
  },
  {
   "cell_type": "code",
   "execution_count": 30,
   "metadata": {},
   "outputs": [],
   "source": [
    "def left2(str):\n",
    "    if len(str) <= 2:\n",
    "        return str\n",
    "    else:\n",
    "        return ''.join([str[2:], str[0:2]])\n",
    "\n",
    "\n",
    "assert left2('Hello') == 'lloHe'\n",
    "assert left2('java') == 'vaja'\n",
    "assert left2('Hi') == 'Hi'\n"
   ]
  }
 ],
 "metadata": {
  "kernelspec": {
   "display_name": "Python 3",
   "language": "python",
   "name": "python3"
  },
  "language_info": {
   "codemirror_mode": {
    "name": "ipython",
    "version": 3
   },
   "file_extension": ".py",
   "mimetype": "text/x-python",
   "name": "python",
   "nbconvert_exporter": "python",
   "pygments_lexer": "ipython3",
   "version": "3.7.3"
  }
 },
 "nbformat": 4,
 "nbformat_minor": 2
}
