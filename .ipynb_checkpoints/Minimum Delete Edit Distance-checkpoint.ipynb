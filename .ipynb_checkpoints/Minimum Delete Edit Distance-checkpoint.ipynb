{
 "cells": [
  {
   "cell_type": "markdown",
   "metadata": {},
   "source": [
    "\n",
    "# MINIMUM DELETE EDIT DISTANCE BETWEEN 2 STRINGS\n",
    "Write a function that returns the *MINIMUM* delete edit distance of 2 strings via the sum of each removed character's unicode code point value (i.e. 'a' = 97).  <br><br>For example, the strings \"cata\" and \"cat\" have a minimum delete edit distance of 97 because you need to remove the 'a' character to make the strings equivalent.  <br><br>Two strings with no similar characters (example: \"hi\" and \"bye\") would have a delete edit distance equivalent to the sum of all the unicode point values of both strings (i.e. \"h\", \"i\", \"b\", \"y\", \"e\").<br><br>"
   ]
  },
  {
   "cell_type": "code",
   "execution_count": 1,
   "metadata": {
    "scrolled": false
   },
   "outputs": [],
   "source": [
    "def minimum_delete_edit_distance(str1, str2): \n",
    "    \n",
    "    if str1 == str2:\n",
    "        return 0\n",
    "    \n",
    "    l1, l2 = len(str1), len(str2) \n",
    "    \n",
    "    # LCS = Longest Common Sequence\n",
    "    LCS_matrix = [[['']]*(l2 + 1) for i in range(l1 + 1)] \n",
    "    LCS_set = set()\n",
    "\n",
    "    for i in range(l1 + 1): \n",
    "        for j in range(l2 + 1): \n",
    "            if i == 0 or j == 0:\n",
    "                pass\n",
    "            elif str1[i-1] == str2[j-1]: \n",
    "                x = [xx + str2[j-1] for xx in LCS_matrix[i-1][j-1]]\n",
    "                LCS_matrix[i][j] = x\n",
    "                LCS_set.update(x)\n",
    "            else: \n",
    "                x = list()\n",
    "                x.extend(LCS_matrix[i-1][j])\n",
    "                x.extend(LCS_matrix[i][j-1])\n",
    "                LCS_matrix[i][j] = x\n",
    "                LCS_set.update(x)\n",
    "    \n",
    "    LCS_list = list(LCS_set)\n",
    "    max_len = max(map(len, LCS_list))\n",
    "    LCS_candidates = [x for x in LCS_list if len(x) == max_len]\n",
    "    \n",
    "    ord_diff = []\n",
    "    for LCS_candidate in LCS_candidates:\n",
    "        _str1, _str2 = str1, str2\n",
    "        for _char in LCS_candidate:\n",
    "            _str1 = _str1.replace(_char, '', 1)\n",
    "            _str2 = _str2.replace(_char, '', 1)\n",
    "        \n",
    "        char_diff = ''.join([_str1, _str2])\n",
    "        ord_diff.append(sum([ord(x) for x in char_diff]))\n",
    "        \n",
    "    \n",
    "    return min(ord_diff)\n",
    "\n",
    "\n",
    "# tests\n",
    "assert (minimum_delete_edit_distance('cata', 'cat')) == 97\n",
    "assert (minimum_delete_edit_distance('hi', 'bye')) == 529\n",
    "assert (minimum_delete_edit_distance('honda', 'fit')) == 845\n",
    "assert (minimum_delete_edit_distance('espers', 'espers')) == 0\n",
    "assert (minimum_delete_edit_distance('', '')) == 0\n",
    "assert (minimum_delete_edit_distance('crapsshootshoot', 'shootcrapsshoot')) == 1074\n"
   ]
  }
 ],
 "metadata": {
  "kernelspec": {
   "display_name": "Python 3",
   "language": "python",
   "name": "python3"
  },
  "language_info": {
   "codemirror_mode": {
    "name": "ipython",
    "version": 3
   },
   "file_extension": ".py",
   "mimetype": "text/x-python",
   "name": "python",
   "nbconvert_exporter": "python",
   "pygments_lexer": "ipython3",
   "version": "3.7.3"
  }
 },
 "nbformat": 4,
 "nbformat_minor": 2
}
